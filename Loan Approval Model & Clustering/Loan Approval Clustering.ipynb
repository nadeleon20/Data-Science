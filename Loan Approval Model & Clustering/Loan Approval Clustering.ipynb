import numpy as np
import pandas as pd
import matplotlib.pyplot as plt
from sklearn.cluster import KMeans

# Load the data from the CSV file
Loan_Approval_Data = pd.read_csv("Data/Loan_Approval.csv")
Loan_df = pd.DataFrame(Loan_Approval_Data)

#print(Loan_df.head())

# Extract the features for clustering
X = Loan_df[['person_income', 'credit_score']]

#print(X.head())

# Apply the K-Means clustering function
kmeans = KMeans(n_clusters = 4)
kmeans.fit(X)
Y_kmeans = kmeans.predict(X)

# Plot the clusters
plt.scatter(X['person_income'], X['credit_score'], c = Y_kmeans, s = 50, cmap = 'viridis')

# Plot the cluster centers
centers = kmeans.cluster_centers_
plt.scatter(centers[:, 0], centers[:, 1], c = 'green', s = 200, alpha = 0.75, marker = 'X')
#Can change the scale to better investigate each cluster
plt.xlim(0, 1000000)
plt.xlabel('Income')
plt.ylabel('Credit Score')
plt.title('Clustering Income and Credit Score')
plt.savefig('Cluser_Graph.png')
#For the same reason as my prediction model, I had to save the graph as a png in order to view it
#After looking at the graph, we can see the the clusters are mainly influenced by Income level
#The purpose of this graph was to see if there were a cluser of potential customers with high credit score and income.
#The application of this insight would be for advertisements for a loan provider.
plt.show()

