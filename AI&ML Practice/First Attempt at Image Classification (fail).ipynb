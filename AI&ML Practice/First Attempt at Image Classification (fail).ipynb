{
  "nbformat": 4,
  "nbformat_minor": 0,
  "metadata": {
    "colab": {
      "provenance": []
    },
    "kernelspec": {
      "name": "python3",
      "display_name": "Python 3"
    },
    "language_info": {
      "name": "python"
    }
  },
  "cells": [
    {
      "cell_type": "code",
      "source": [
        "#For what seems like ease of use, I am using Google Colab rather than GitHub CodeSpaces\n",
        "import torch\n",
        "import torchvision\n",
        "from torchvision import datasets, models, transforms\n",
        "from torch.utils.data import Dataset, DataLoader\n",
        "from torchvision.datasets import ImageFolder\n",
        "import torch.nn as nn\n",
        "import torch.optim as optim\n",
        "import timm\n",
        "\n",
        "import matplotlib.pyplot as plt\n",
        "import pandas as pd\n",
        "import numpy as np\n",
        "\n",
        "from sklearn.model_selection import (\n",
        "    KFold,\n",
        "    train_test_split,\n",
        "    TimeSeriesSplit,\n",
        "    StratifiedKFold,\n",
        "    GroupKFold,\n",
        "    StratifiedGroupKFold,\n",
        ")\n",
        "from sklearn.metrics import accuracy_score, roc_auc_score"
      ],
      "metadata": {
        "id": "wvgTGAnTHaQ5"
      },
      "execution_count": 57,
      "outputs": []
    },
    {
      "cell_type": "code",
      "source": [
        "#Using the kaggle package to downlod the dataset\n",
        "import kagglehub\n",
        "path = kagglehub.dataset_download(\"mdwaquarazam/agricultural-crops-image-classification\")\n",
        "\n",
        "print(\"Path to dataset files:\", path)"
      ],
      "metadata": {
        "colab": {
          "base_uri": "https://localhost:8080/"
        },
        "id": "jPfcvfOf-FcU",
        "outputId": "3debd93f-74e2-4f48-f39e-91ce6edd4947"
      },
      "execution_count": 58,
      "outputs": [
        {
          "output_type": "stream",
          "name": "stdout",
          "text": [
            "Warning: Looks like you're using an outdated `kagglehub` version, please consider updating (latest version: 0.3.5)\n",
            "Path to dataset files: /root/.cache/kagglehub/datasets/mdwaquarazam/agricultural-crops-image-classification/versions/1\n"
          ]
        }
      ]
    },
    {
      "cell_type": "code",
      "source": [
        "class PlantDataset(Dataset):\n",
        "    def __init__(self, data_dir, transform=None):\n",
        "        self.data = ImageFolder(data_dir, transform=transform)\n",
        "\n",
        "    def __len__(self):\n",
        "        return len(self.data)\n",
        "\n",
        "    def __getitem__(self,idx):\n",
        "        return self.data[idx]\n",
        "\n",
        "    @property\n",
        "    def classes(self):\n",
        "        return self.data.classes"
      ],
      "metadata": {
        "id": "azCeBNhBHcFc"
      },
      "execution_count": 59,
      "outputs": []
    },
    {
      "cell_type": "code",
      "source": [
        "dataset = PlantDataset(data_dir = '/root/.cache/kagglehub/datasets/mdwaquarazam/agricultural-crops-image-classification/versions/1/Agricultural-crops')"
      ],
      "metadata": {
        "id": "yzeNrunpXpM2"
      },
      "execution_count": 60,
      "outputs": []
    },
    {
      "cell_type": "code",
      "source": [
        "len(dataset)\n",
        "dataset[9]"
      ],
      "metadata": {
        "id": "j7ko0vt29rIw",
        "colab": {
          "base_uri": "https://localhost:8080/"
        },
        "outputId": "c55cb97d-10eb-4413-e5e1-14e7fa8fdb02",
        "collapsed": true
      },
      "execution_count": 61,
      "outputs": [
        {
          "output_type": "execute_result",
          "data": {
            "text/plain": [
              "(<PIL.Image.Image image mode=RGB size=277x182>, 0)"
            ]
          },
          "metadata": {},
          "execution_count": 61
        }
      ]
    },
    {
      "cell_type": "code",
      "source": [
        "data_dir = '/root/.cache/kagglehub/datasets/mdwaquarazam/agricultural-crops-image-classification/versions/1/Agricultural-crops'\n",
        "target_to_class = {v: k for k, v in ImageFolder(data_dir).class_to_idx.items()}\n",
        "print(target_to_class)"
      ],
      "metadata": {
        "id": "M6Hd2V1A9ukb",
        "colab": {
          "base_uri": "https://localhost:8080/"
        },
        "outputId": "1b81d524-bbcb-4cb1-d706-95e44e3ea4db"
      },
      "execution_count": 65,
      "outputs": [
        {
          "output_type": "stream",
          "name": "stdout",
          "text": [
            "{0: 'Cherry', 1: 'Coffee-plant', 2: 'Cucumber', 3: 'Fox_nut(Makhana)', 4: 'Lemon', 5: 'Olive-tree', 6: 'Pearl_millet(bajra)', 7: 'Tobacco-plant', 8: 'almond', 9: 'banana', 10: 'cardamom', 11: 'chilli', 12: 'clove', 13: 'coconut', 14: 'cotton', 15: 'gram', 16: 'jowar', 17: 'jute', 18: 'maize', 19: 'mustard-oil', 20: 'papaya', 21: 'pineapple', 22: 'rice', 23: 'soyabean', 24: 'sugarcane', 25: 'sunflower', 26: 'tea', 27: 'tomato', 28: 'vigna-radiati(Mung)', 29: 'wheat'}\n"
          ]
        }
      ]
    },
    {
      "cell_type": "code",
      "source": [
        "#Turn the Images into Tensors of the same size\n",
        "transform = transforms.Compose([\n",
        "    transforms.Resize((128, 128)),\n",
        "    transforms.ToTensor(),\n",
        "])\n",
        "\n",
        "data_dir = '/root/.cache/kagglehub/datasets/mdwaquarazam/agricultural-crops-image-classification/versions/1/Agricultural-crops'\n",
        "dataset = PlantDataset(data_dir, transform)\n",
        "\n",
        "#Double checking the dimensions of the tensors\n",
        "image, label = dataset[9]\n",
        "image.shape"
      ],
      "metadata": {
        "id": "5QdQoY-Xp595",
        "colab": {
          "base_uri": "https://localhost:8080/"
        },
        "outputId": "b252c924-95c1-4460-8b0c-2ed5a00daeef"
      },
      "execution_count": 66,
      "outputs": [
        {
          "output_type": "execute_result",
          "data": {
            "text/plain": [
              "torch.Size([3, 128, 128])"
            ]
          },
          "metadata": {},
          "execution_count": 66
        }
      ]
    },
    {
      "cell_type": "code",
      "source": [
        "#Need to set up cross validation before training\n",
        "input_folder=data_dir\n",
        "!pip install split-folders\n",
        "import splitfolders\n",
        "split_ratio = (0.7,0.2,0.1)\n",
        "splitfolders.ratio( input_folder,\n",
        "                  output='/content/sample_data', seed=9,\n",
        "                  ratio=split_ratio,\n",
        "                  group_prefix=None,\n",
        "                  )"
      ],
      "metadata": {
        "colab": {
          "base_uri": "https://localhost:8080/"
        },
        "id": "ee_jLmVqv-gh",
        "outputId": "dfbb29bd-8521-426b-8b8d-8fd01e88485f"
      },
      "execution_count": 67,
      "outputs": [
        {
          "output_type": "stream",
          "name": "stdout",
          "text": [
            "Requirement already satisfied: split-folders in /usr/local/lib/python3.10/dist-packages (0.5.1)\n"
          ]
        },
        {
          "output_type": "stream",
          "name": "stderr",
          "text": [
            "Copying files: 829 files [00:00, 2171.03 files/s]\n"
          ]
        }
      ]
    },
    {
      "cell_type": "code",
      "source": [
        "transform = transforms.Compose([\n",
        "    transforms.Resize((128, 128)),\n",
        "    transforms.ToTensor(),\n",
        "])\n",
        "\n",
        "train_folder = '/content/sample_data/train'\n",
        "test_folder = '/content/sample_data/test'\n",
        "valid_folder = '/content/sample_data/val'\n",
        "\n",
        "train_dataset = PlantDataset(train_folder, transform=transform)\n",
        "test_dataset = PlantDataset(test_folder, transform=transform)\n",
        "valid_dataset = PlantDataset(valid_folder, transform=transform)\n",
        "\n",
        "train_loader = DataLoader(train_dataset, batch_size=32, shuffle=True)\n",
        "test_loader = DataLoader(test_dataset, batch_size=32, shuffle=False)\n",
        "valid_loader = DataLoader(valid_dataset, batch_size=32, shuffle=False)\n",
        "\n",
        "target_to_class = {v: k for k, v in ImageFolder(train_folder).class_to_idx.items()}\n",
        "print(target_to_class)"
      ],
      "metadata": {
        "id": "dg5TP19p5gK4",
        "colab": {
          "base_uri": "https://localhost:8080/"
        },
        "outputId": "8fcff7ae-2224-4355-c17d-c2ebe5a70890"
      },
      "execution_count": 68,
      "outputs": [
        {
          "output_type": "stream",
          "name": "stdout",
          "text": [
            "{0: 'Cherry', 1: 'Coffee-plant', 2: 'Cucumber', 3: 'Fox_nut(Makhana)', 4: 'Lemon', 5: 'Olive-tree', 6: 'Pearl_millet(bajra)', 7: 'Tobacco-plant', 8: 'almond', 9: 'banana', 10: 'cardamom', 11: 'chilli', 12: 'clove', 13: 'coconut', 14: 'cotton', 15: 'gram', 16: 'jowar', 17: 'jute', 18: 'maize', 19: 'mustard-oil', 20: 'papaya', 21: 'pineapple', 22: 'rice', 23: 'soyabean', 24: 'sugarcane', 25: 'sunflower', 26: 'tea', 27: 'tomato', 28: 'vigna-radiati(Mung)', 29: 'wheat'}\n"
          ]
        }
      ]
    },
    {
      "cell_type": "code",
      "source": [
        "#creating the model\n",
        "class PlantClassifier(nn.Module):\n",
        "    def __init__(self, num_classes = 30):\n",
        "      super(PlantClassifier, self).__init__()\n",
        "      self.base_model = timm.create_model('efficientnet_b0', pretrained=True)\n",
        "      self.features = nn.Sequential(*list(self.base_model.children())[:-1])\n",
        "\n",
        "\n",
        "      enet_out_size = 1280\n",
        "      self.classifier = nn.Linear(enet_out_size, num_classes)\n",
        "\n",
        "\n",
        "    def forward(self, x):\n",
        "      x = self.features(x)\n",
        "      output = self.classifier(x)\n",
        "      return output\n",
        "\n",
        "Model = PlantClassifier(num_classes=30)"
      ],
      "metadata": {
        "id": "0-Zo5kJprTpG"
      },
      "execution_count": 72,
      "outputs": []
    },
    {
      "cell_type": "code",
      "source": [
        "example = Model(images)\n",
        "example.shape"
      ],
      "metadata": {
        "colab": {
          "base_uri": "https://localhost:8080/"
        },
        "collapsed": true,
        "id": "CNCkKVSWRnbh",
        "outputId": "76eedbd5-0838-46e7-f4d5-c907d26b38ca"
      },
      "execution_count": 73,
      "outputs": [
        {
          "output_type": "execute_result",
          "data": {
            "text/plain": [
              "torch.Size([32, 30])"
            ]
          },
          "metadata": {},
          "execution_count": 73
        }
      ]
    },
    {
      "cell_type": "code",
      "source": [
        "#Adding in the loss function and optimizer before testing it\n",
        "criterion = nn.CrossEntropyLoss()\n",
        "optimizer = optim.Adam(Model.parameters(), lr=0.001)\n",
        "\n",
        "criterion(example, labels)"
      ],
      "metadata": {
        "colab": {
          "base_uri": "https://localhost:8080/"
        },
        "id": "J9u-5Npaq3cx",
        "outputId": "a12be7e4-6731-4b00-b087-0ac23ca3edb1"
      },
      "execution_count": 74,
      "outputs": [
        {
          "output_type": "execute_result",
          "data": {
            "text/plain": [
              "tensor(3.3968, grad_fn=<NllLossBackward0>)"
            ]
          },
          "metadata": {},
          "execution_count": 74
        }
      ]
    },
    {
      "cell_type": "code",
      "source": [
        "#10 epochs took approx. 9 mins to train\n",
        "num_epochs = 10\n",
        "train_loss, val_loss = [], []\n",
        "train_losses, val_losses = [], []\n",
        "\n",
        "model = PlantClassifier(num_classes = 30)\n",
        "\n",
        "for epoch in range(num_epochs):\n",
        "  model.train()\n",
        "  running_loss = 0.0\n",
        "  for images, labels in train_loader:\n",
        "    optimizer.zero_grad()\n",
        "    outputs = model(images)\n",
        "    loss = criterion(outputs, labels)\n",
        "    loss.backward()\n",
        "    optimizer.step()\n",
        "    running_loss += loss.item() * images.size(0)\n",
        "  train_loss = running_loss / len(train_loader.dataset)\n",
        "  train_losses.append(train_loss)\n",
        "\n",
        "#Now we enter the validation phase\n",
        "  model.eval()\n",
        "  running_loss = 0.0\n",
        "  with torch.no_grad():\n",
        "    for images, labels in valid_loader:\n",
        "      outputs = model(images)\n",
        "      loss = criterion(outputs, labels)\n",
        "      running_loss += loss.item() * images.size(0)\n",
        "  val_loss = running_loss / len(valid_loader.dataset)\n",
        "  val_losses.append(val_loss)\n",
        "  print(f\"Epoch {epoch+1}/{num_epochs} - Train loss: {train_loss}, Validation loss: {val_loss}\")\n",
        "\n",
        "#Terrible losses. Look into what is wrong with the model"
      ],
      "metadata": {
        "colab": {
          "base_uri": "https://localhost:8080/"
        },
        "id": "2Mfv9kGltdK1",
        "outputId": "9d41c4fb-7e8f-49d6-aef5-cf72b344c1fb"
      },
      "execution_count": 82,
      "outputs": [
        {
          "output_type": "stream",
          "name": "stdout",
          "text": [
            "Epoch 1/10 - Train loss: 3.412318153833882, Validation loss: 3.386311204971806\n",
            "Epoch 2/10 - Train loss: 3.416932843900523, Validation loss: 3.417890871724775\n",
            "Epoch 3/10 - Train loss: 3.415436958805748, Validation loss: 3.431538627993676\n",
            "Epoch 4/10 - Train loss: 3.4083678110622144, Validation loss: 3.4347618795210315\n",
            "Epoch 5/10 - Train loss: 3.4131788314960123, Validation loss: 3.4355775048655848\n",
            "Epoch 6/10 - Train loss: 3.4075814470884462, Validation loss: 3.436401347191103\n",
            "Epoch 7/10 - Train loss: 3.412013425558858, Validation loss: 3.430381811818769\n",
            "Epoch 8/10 - Train loss: 3.4057625479773606, Validation loss: 3.437271184305991\n",
            "Epoch 9/10 - Train loss: 3.406132675432363, Validation loss: 3.436292326834894\n",
            "Epoch 10/10 - Train loss: 3.4016327049275485, Validation loss: 3.4355512126799552\n"
          ]
        }
      ]
    },
    {
      "cell_type": "code",
      "source": [
        "#Now we want to visualize the losses for better understanding\n",
        "plt.plot(train_losses, label='Training loss')\n",
        "plt.plot(val_losses, label='Validation loss')\n",
        "plt.legend()\n",
        "plt.title(\"Loss over epochs\")\n",
        "plt.show()"
      ],
      "metadata": {
        "colab": {
          "base_uri": "https://localhost:8080/",
          "height": 452
        },
        "id": "bjf6rt4zHcnj",
        "outputId": "09ebca0b-f278-4ccb-c823-2070128372a7"
      },
      "execution_count": 83,
      "outputs": [
        {
          "output_type": "display_data",
          "data": {
            "text/plain": [
              "<Figure size 640x480 with 1 Axes>"
            ],
            "image/png": "[encoded data removed]"
          },
          "metadata": {}
        }
      ]
    }
  ]
}
