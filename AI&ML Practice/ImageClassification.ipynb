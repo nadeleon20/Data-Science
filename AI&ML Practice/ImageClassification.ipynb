{
  "cells": [
    {
      "cell_type": "code",
      "execution_count": null,
      "metadata": {
        "id": "9vBm8W4oCKsO"
      },
      "outputs": [],
      "source": [
        "import torch\n",
        "import torchvision\n",
        "import torchvision.transforms as transforms\n",
        "from torchvision.datasets import ImageFolder\n",
        "from torchvision import models\n",
        "from torch.utils.data import DataLoader\n",
        "from torch import nn, optim"
      ]
    },
    {
      "cell_type": "code",
      "execution_count": null,
      "metadata": {
        "colab": {
          "base_uri": "https://localhost:8080/"
        },
        "id": "R3ELwCixDWOz",
        "outputId": "684a865b-bbd8-4557-bd05-a4fa02c8bdc4"
      },
      "outputs": [
        {
          "name": "stdout",
          "output_type": "stream",
          "text": [
            "Downloading from https://www.kaggle.com/api/v1/datasets/download/mdwaquarazam/agricultural-crops-image-classification?dataset_version_number=1...\n"
          ]
        },
        {
          "name": "stderr",
          "output_type": "stream",
          "text": [
            "100%|██████████| 79.0M/79.0M [00:00<00:00, 98.6MB/s]"
          ]
        },
        {
          "name": "stdout",
          "output_type": "stream",
          "text": [
            "Extracting files...\n"
          ]
        },
        {
          "name": "stderr",
          "output_type": "stream",
          "text": [
            "\n"
          ]
        },
        {
          "name": "stdout",
          "output_type": "stream",
          "text": [
            "Path to dataset files: /root/.cache/kagglehub/datasets/mdwaquarazam/agricultural-crops-image-classification/versions/1\n"
          ]
        }
      ],
      "source": [
        "#Google Colab has a weird relationship with local files so I used the Kaggle package to import it with their API\n",
        "import kagglehub\n",
        "path = kagglehub.dataset_download(\"mdwaquarazam/agricultural-crops-image-classification\")\n",
        "\n",
        "print(\"Path to dataset files:\", path)\n",
        "\n",
        "data_dir = '/root/.cache/kagglehub/datasets/mdwaquarazam/agricultural-crops-image-classification/versions/1/Agricultural-crops'"
      ]
    },
    {
      "cell_type": "code",
      "execution_count": null,
      "metadata": {
        "colab": {
          "base_uri": "https://localhost:8080/"
        },
        "id": "y9MyPSfDD1pr",
        "outputId": "2968f361-c12a-48ef-ace8-cd2198183796"
      },
      "outputs": [
        {
          "name": "stdout",
          "output_type": "stream",
          "text": [
            "Requirement already satisfied: split-folders in /usr/local/lib/python3.10/dist-packages (0.5.1)\n"
          ]
        },
        {
          "name": "stderr",
          "output_type": "stream",
          "text": [
            "Copying files: 829 files [00:00, 2281.47 files/s]"
          ]
        },
        {
          "name": "stdout",
          "output_type": "stream",
          "text": [
            "{0: 'Cherry', 1: 'Coffee-plant', 2: 'Cucumber', 3: 'Fox_nut(Makhana)', 4: 'Lemon', 5: 'Olive-tree', 6: 'Pearl_millet(bajra)', 7: 'Tobacco-plant', 8: 'almond', 9: 'banana', 10: 'cardamom', 11: 'chilli', 12: 'clove', 13: 'coconut', 14: 'cotton', 15: 'gram', 16: 'jowar', 17: 'jute', 18: 'maize', 19: 'mustard-oil', 20: 'papaya', 21: 'pineapple', 22: 'rice', 23: 'soyabean', 24: 'sugarcane', 25: 'sunflower', 26: 'tea', 27: 'tomato', 28: 'vigna-radiati(Mung)', 29: 'wheat'}\n"
          ]
        },
        {
          "name": "stderr",
          "output_type": "stream",
          "text": [
            "\n"
          ]
        }
      ],
      "source": [
        "#The data I found was not split into respective folders so I needed to break it up myself\n",
        "input_folder=data_dir\n",
        "!pip install split-folders\n",
        "import splitfolders\n",
        "split_ratio = (0.7,0.2,0.1)\n",
        "splitfolders.ratio( input_folder,\n",
        "                  output='/content/sample_data', seed=9,\n",
        "                  ratio=split_ratio,\n",
        "                  group_prefix=None,\n",
        "                  )\n",
        "\n",
        "target_to_class = {v: k for k, v in ImageFolder(data_dir).class_to_idx.items()}\n",
        "print(target_to_class)"
      ]
    },
    {
      "cell_type": "code",
      "execution_count": null,
      "metadata": {
        "id": "wwWR8kHbCPx0"
      },
      "outputs": [],
      "source": [
        "#Defining the transform function to resize images and turn them into tensors\n",
        "transform = transforms.Compose([\n",
        "    transforms.Resize((224, 224)),\n",
        "    transforms.ToTensor(),\n",
        "    transforms.Normalize(mean=[0.485, 0.456, 0.406], std=[0.229, 0.224, 0.225])\n",
        "])"
      ]
    },
    {
      "cell_type": "code",
      "execution_count": null,
      "metadata": {
        "colab": {
          "base_uri": "https://localhost:8080/"
        },
        "id": "vN45gLGHCSvM",
        "outputId": "9faf081f-8584-459f-9608-18bc3153f7be"
      },
      "outputs": [
        {
          "name": "stdout",
          "output_type": "stream",
          "text": [
            "{0: 'Cherry', 1: 'Coffee-plant', 2: 'Cucumber', 3: 'Fox_nut(Makhana)', 4: 'Lemon', 5: 'Olive-tree', 6: 'Pearl_millet(bajra)', 7: 'Tobacco-plant', 8: 'almond', 9: 'banana', 10: 'cardamom', 11: 'chilli', 12: 'clove', 13: 'coconut', 14: 'cotton', 15: 'gram', 16: 'jowar', 17: 'jute', 18: 'maize', 19: 'mustard-oil', 20: 'papaya', 21: 'pineapple', 22: 'rice', 23: 'soyabean', 24: 'sugarcane', 25: 'sunflower', 26: 'tea', 27: 'tomato', 28: 'vigna-radiati(Mung)', 29: 'wheat'}\n"
          ]
        }
      ],
      "source": [
        "#Breaking folder into datasets and turning those sets into batches through the DataLoader\n",
        "train_folder = '/content/sample_data/train'\n",
        "test_folder = '/content/sample_data/test'\n",
        "valid_folder = '/content/sample_data/val'\n",
        "\n",
        "train_dataset = torchvision.datasets.ImageFolder(train_folder, transform=transform)\n",
        "test_dataset = torchvision.datasets.ImageFolder(test_folder, transform=transform)\n",
        "valid_dataset = torchvision.datasets.ImageFolder(valid_folder, transform=transform)\n",
        "\n",
        "train_loader = DataLoader(train_dataset, batch_size=32, shuffle=True)\n",
        "test_loader = DataLoader(test_dataset, batch_size=32, shuffle=False)\n",
        "valid_loader = DataLoader(valid_dataset, batch_size=32, shuffle=False)\n",
        "\n",
        "target_to_class = {v: k for k, v in torchvision.datasets.ImageFolder(train_folder).class_to_idx.items()}\n",
        "print(target_to_class)"
      ]
    },
    {
      "cell_type": "code",
      "execution_count": null,
      "metadata": {
        "colab": {
          "base_uri": "https://localhost:8080/"
        },
        "id": "iCsvJc1XDKdv",
        "outputId": "5bbadb83-4b99-4e32-946c-a01ab9ad63e4"
      },
      "outputs": [
        {
          "name": "stderr",
          "output_type": "stream",
          "text": [
            "/usr/local/lib/python3.10/dist-packages/torchvision/models/_utils.py:208: UserWarning: The parameter 'pretrained' is deprecated since 0.13 and may be removed in the future, please use 'weights' instead.\n",
            "  warnings.warn(\n",
            "/usr/local/lib/python3.10/dist-packages/torchvision/models/_utils.py:223: UserWarning: Arguments other than a weight enum or `None` for 'weights' are deprecated since 0.13 and may be removed in the future. The current behavior is equivalent to passing `weights=ResNet50_Weights.IMAGENET1K_V1`. You can also use `weights=ResNet50_Weights.DEFAULT` to get the most up-to-date weights.\n",
            "  warnings.warn(msg)\n",
            "Downloading: \"https://download.pytorch.org/models/resnet50-0676ba61.pth\" to /root/.cache/torch/hub/checkpoints/resnet50-0676ba61.pth\n",
            "100%|██████████| 97.8M/97.8M [00:01<00:00, 65.9MB/s]\n"
          ]
        }
      ],
      "source": [
        "#I tried using EfficientNet-B0 but my loss would not decay over each epoch. I heard ResNet50 is better for image classification\n",
        "model = models.resnet50(pretrained=True)"
      ]
    },
    {
      "cell_type": "code",
      "execution_count": null,
      "metadata": {
        "id": "6z3xNIk-DLAG"
      },
      "outputs": [],
      "source": [
        "#Defining the number of features that the model can look for as output\n",
        "num_ftrs = model.fc.in_features\n",
        "model.fc = nn.Linear(num_ftrs, len(train_dataset.classes))"
      ]
    },
    {
      "cell_type": "code",
      "execution_count": null,
      "metadata": {
        "id": "0ItEYPk-DcLe"
      },
      "outputs": [],
      "source": [
        "#Setting up the optimizer Adam and the loss\n",
        "criterion = nn.CrossEntropyLoss()\n",
        "optimizer = optim.Adam(model.parameters(), lr=0.001)"
      ]
    },
    {
      "cell_type": "code",
      "execution_count": null,
      "metadata": {
        "colab": {
          "background_save": true,
          "base_uri": "https://localhost:8080/"
        },
        "id": "Jz50_X4UDeHH",
        "outputId": "5657ebb1-8637-40fb-a06d-a55968e282d6"
      },
      "outputs": [
        {
          "name": "stdout",
          "output_type": "stream",
          "text": [
            "Epoch 1/15, Loss: 3.1036712725957236\n",
            "Validation Accuracy: 12.903225806451612%\n",
            "Epoch 2/15, Loss: 2.416572915183173\n",
            "Validation Accuracy: 15.483870967741936%\n",
            "Epoch 3/15, Loss: 2.031653881072998\n",
            "Validation Accuracy: 16.774193548387096%\n",
            "Epoch 4/15, Loss: 1.7290623717837863\n",
            "Validation Accuracy: 23.225806451612904%\n",
            "Epoch 5/15, Loss: 1.3059545358022053\n",
            "Validation Accuracy: 46.45161290322581%\n",
            "Epoch 6/15, Loss: 0.8743793467680613\n",
            "Validation Accuracy: 34.83870967741935%\n",
            "Epoch 7/15, Loss: 0.8494946559270223\n",
            "Validation Accuracy: 42.58064516129032%\n",
            "Epoch 8/15, Loss: 0.6446751654148102\n",
            "Validation Accuracy: 46.45161290322581%\n",
            "Epoch 9/15, Loss: 0.5602200701832771\n",
            "Validation Accuracy: 42.58064516129032%\n",
            "Epoch 10/15, Loss: 0.6542552850312657\n",
            "Validation Accuracy: 37.41935483870968%\n",
            "Epoch 11/15, Loss: 0.5952391690678067\n",
            "Validation Accuracy: 52.25806451612903%\n",
            "Epoch 12/15, Loss: 0.4278929680585861\n",
            "Validation Accuracy: 54.193548387096776%\n",
            "Epoch 13/15, Loss: 0.3998145353462961\n",
            "Validation Accuracy: 43.87096774193548%\n",
            "Epoch 14/15, Loss: 0.3756071374648147\n",
            "Validation Accuracy: 45.16129032258065%\n",
            "Epoch 15/15, Loss: 0.36019287092818153\n",
            "Validation Accuracy: 46.45161290322581%\n"
          ]
        }
      ],
      "source": [
        "#Took about 2 hours to train, but thankfully the loss value is decaying over each iteration.\n",
        "#The model seems to have hit a wall in terms of training. I may need to tweek the weights or loss and rerun\n",
        "num_epochs = 15\n",
        "\n",
        "for epoch in range(num_epochs):\n",
        "    model.train()\n",
        "    running_loss = 0.0\n",
        "    for inputs, labels in train_loader:\n",
        "        optimizer.zero_grad()\n",
        "        outputs = model(inputs)\n",
        "        loss = criterion(outputs, labels)\n",
        "        loss.backward()\n",
        "        optimizer.step()\n",
        "        running_loss += loss.item()\n",
        "\n",
        "    print(f'Epoch {epoch+1}/{num_epochs}, Loss: {running_loss/len(train_loader)}')\n",
        "\n",
        "    model.eval()\n",
        "    correct = 0\n",
        "    total = 0\n",
        "    with torch.no_grad():\n",
        "        for inputs, labels in valid_loader:\n",
        "            outputs = model(inputs)\n",
        "            _, predicted = torch.max(outputs, 1)\n",
        "            total += labels.size(0)\n",
        "            correct += (predicted == labels).sum().item()\n",
        "\n",
        "    print(f'Validation Accuracy: {100 * correct / total}%')"
      ]
    }
  ],
  "metadata": {
    "colab": {
      "provenance": []
    },
    "kernelspec": {
      "display_name": "Python 3",
      "name": "python3"
    },
    "language_info": {
      "name": "python"
    }
  },
  "nbformat": 4,
  "nbformat_minor": 0
}