{
  "cells": [
    {
      "cell_type": "code",
      "execution_count": 2,
      "metadata": {
        "id": "9vBm8W4oCKsO"
      },
      "outputs": [],
      "source": [
        "import torch\n",
        "import torchvision\n",
        "import torchvision.transforms as transforms\n",
        "from torchvision.datasets import ImageFolder\n",
        "from torchvision import models\n",
        "from torch.utils.data import DataLoader\n",
        "from torch import nn, optim"
      ]
    },
    {
      "cell_type": "code",
      "execution_count": 3,
      "metadata": {
        "colab": {
          "base_uri": "https://localhost:8080/"
        },
        "id": "R3ELwCixDWOz",
        "outputId": "dc10779c-5579-4859-9c91-b1dfe8e732d9"
      },
      "outputs": [
        {
          "output_type": "stream",
          "name": "stdout",
          "text": [
            "Warning: Looks like you're using an outdated `kagglehub` version (installed: 0.3.5), please consider upgrading to the latest version (0.3.6).\n",
            "Downloading from https://www.kaggle.com/api/v1/datasets/download/mdwaquarazam/agricultural-crops-image-classification?dataset_version_number=1...\n"
          ]
        },
        {
          "output_type": "stream",
          "name": "stderr",
          "text": [
            "100%|██████████| 79.0M/79.0M [00:04<00:00, 19.8MB/s]"
          ]
        },
        {
          "output_type": "stream",
          "name": "stdout",
          "text": [
            "Extracting files...\n"
          ]
        },
        {
          "output_type": "stream",
          "name": "stderr",
          "text": [
            "\n"
          ]
        },
        {
          "output_type": "stream",
          "name": "stdout",
          "text": [
            "Path to dataset files: /root/.cache/kagglehub/datasets/mdwaquarazam/agricultural-crops-image-classification/versions/1\n"
          ]
        }
      ],
      "source": [
        "#Google Colab has a weird relationship with local files so I used the Kaggle package to import it with their API\n",
        "import kagglehub\n",
        "path = kagglehub.dataset_download(\"mdwaquarazam/agricultural-crops-image-classification\")\n",
        "\n",
        "print(\"Path to dataset files:\", path)\n",
        "\n",
        "data_dir = '/root/.cache/kagglehub/datasets/mdwaquarazam/agricultural-crops-image-classification/versions/1/Agricultural-crops'"
      ]
    },
    {
      "cell_type": "code",
      "execution_count": 4,
      "metadata": {
        "colab": {
          "base_uri": "https://localhost:8080/"
        },
        "id": "y9MyPSfDD1pr",
        "outputId": "2d0b4dfd-626b-4dad-ee74-9cbc087566ae"
      },
      "outputs": [
        {
          "output_type": "stream",
          "name": "stdout",
          "text": [
            "Collecting split-folders\n",
            "  Downloading split_folders-0.5.1-py3-none-any.whl.metadata (6.2 kB)\n",
            "Downloading split_folders-0.5.1-py3-none-any.whl (8.4 kB)\n",
            "Installing collected packages: split-folders\n",
            "Successfully installed split-folders-0.5.1\n"
          ]
        },
        {
          "output_type": "stream",
          "name": "stderr",
          "text": [
            "Copying files: 829 files [00:00, 2936.25 files/s]"
          ]
        },
        {
          "output_type": "stream",
          "name": "stdout",
          "text": [
            "{0: 'Cherry', 1: 'Coffee-plant', 2: 'Cucumber', 3: 'Fox_nut(Makhana)', 4: 'Lemon', 5: 'Olive-tree', 6: 'Pearl_millet(bajra)', 7: 'Tobacco-plant', 8: 'almond', 9: 'banana', 10: 'cardamom', 11: 'chilli', 12: 'clove', 13: 'coconut', 14: 'cotton', 15: 'gram', 16: 'jowar', 17: 'jute', 18: 'maize', 19: 'mustard-oil', 20: 'papaya', 21: 'pineapple', 22: 'rice', 23: 'soyabean', 24: 'sugarcane', 25: 'sunflower', 26: 'tea', 27: 'tomato', 28: 'vigna-radiati(Mung)', 29: 'wheat'}\n"
          ]
        },
        {
          "output_type": "stream",
          "name": "stderr",
          "text": [
            "\n"
          ]
        }
      ],
      "source": [
        "#The data I found was not split into respective folders so I needed to break it up myself\n",
        "input_folder=data_dir\n",
        "!pip install split-folders\n",
        "import splitfolders\n",
        "split_ratio = (0.7,0.2,0.1)\n",
        "splitfolders.ratio( input_folder,\n",
        "                  output='/content/sample_data', seed=9,\n",
        "                  ratio=split_ratio,\n",
        "                  group_prefix=None,\n",
        "                  )\n",
        "\n",
        "target_to_class = {v: k for k, v in ImageFolder(data_dir).class_to_idx.items()}\n",
        "print(target_to_class)"
      ]
    },
    {
      "cell_type": "code",
      "execution_count": 5,
      "metadata": {
        "id": "wwWR8kHbCPx0"
      },
      "outputs": [],
      "source": [
        "#Defining the transform function to resize images and turn them into tensors\n",
        "transform = transforms.Compose([\n",
        "    transforms.Resize((224, 224)),\n",
        "    transforms.ToTensor(),\n",
        "    transforms.Normalize(mean=[0.485, 0.456, 0.406], std=[0.229, 0.224, 0.225])\n",
        "])"
      ]
    },
    {
      "cell_type": "code",
      "execution_count": 6,
      "metadata": {
        "colab": {
          "base_uri": "https://localhost:8080/"
        },
        "id": "vN45gLGHCSvM",
        "outputId": "3054c6cf-c492-42cf-dc5d-60d5d73b0ec0"
      },
      "outputs": [
        {
          "output_type": "stream",
          "name": "stdout",
          "text": [
            "{0: 'Cherry', 1: 'Coffee-plant', 2: 'Cucumber', 3: 'Fox_nut(Makhana)', 4: 'Lemon', 5: 'Olive-tree', 6: 'Pearl_millet(bajra)', 7: 'Tobacco-plant', 8: 'almond', 9: 'banana', 10: 'cardamom', 11: 'chilli', 12: 'clove', 13: 'coconut', 14: 'cotton', 15: 'gram', 16: 'jowar', 17: 'jute', 18: 'maize', 19: 'mustard-oil', 20: 'papaya', 21: 'pineapple', 22: 'rice', 23: 'soyabean', 24: 'sugarcane', 25: 'sunflower', 26: 'tea', 27: 'tomato', 28: 'vigna-radiati(Mung)', 29: 'wheat'}\n"
          ]
        }
      ],
      "source": [
        "#Breaking folder into datasets and turning those sets into batches through the DataLoader\n",
        "train_folder = '/content/sample_data/train'\n",
        "test_folder = '/content/sample_data/test'\n",
        "valid_folder = '/content/sample_data/val'\n",
        "\n",
        "train_dataset = torchvision.datasets.ImageFolder(train_folder, transform=transform)\n",
        "test_dataset = torchvision.datasets.ImageFolder(test_folder, transform=transform)\n",
        "valid_dataset = torchvision.datasets.ImageFolder(valid_folder, transform=transform)\n",
        "\n",
        "train_loader = DataLoader(train_dataset, batch_size=32, shuffle=True)\n",
        "test_loader = DataLoader(test_dataset, batch_size=32, shuffle=False)\n",
        "valid_loader = DataLoader(valid_dataset, batch_size=32, shuffle=False)\n",
        "\n",
        "target_to_class = {v: k for k, v in torchvision.datasets.ImageFolder(train_folder).class_to_idx.items()}\n",
        "print(target_to_class)"
      ]
    },
    {
      "cell_type": "code",
      "execution_count": 7,
      "metadata": {
        "colab": {
          "base_uri": "https://localhost:8080/"
        },
        "id": "iCsvJc1XDKdv",
        "outputId": "e7c2eced-ad57-4b59-835d-ba312440b32b"
      },
      "outputs": [
        {
          "output_type": "stream",
          "name": "stderr",
          "text": [
            "/usr/local/lib/python3.10/dist-packages/torchvision/models/_utils.py:208: UserWarning: The parameter 'pretrained' is deprecated since 0.13 and may be removed in the future, please use 'weights' instead.\n",
            "  warnings.warn(\n",
            "/usr/local/lib/python3.10/dist-packages/torchvision/models/_utils.py:223: UserWarning: Arguments other than a weight enum or `None` for 'weights' are deprecated since 0.13 and may be removed in the future. The current behavior is equivalent to passing `weights=ResNet50_Weights.IMAGENET1K_V1`. You can also use `weights=ResNet50_Weights.DEFAULT` to get the most up-to-date weights.\n",
            "  warnings.warn(msg)\n",
            "Downloading: \"https://download.pytorch.org/models/resnet50-0676ba61.pth\" to /root/.cache/torch/hub/checkpoints/resnet50-0676ba61.pth\n",
            "100%|██████████| 97.8M/97.8M [00:00<00:00, 134MB/s]\n"
          ]
        }
      ],
      "source": [
        "#I tried using EfficientNet-B0 but my loss would not decay over each epoch. I heard ResNet50 is better for image classification\n",
        "model = models.resnet50(pretrained=True)"
      ]
    },
    {
      "cell_type": "code",
      "execution_count": 8,
      "metadata": {
        "id": "6z3xNIk-DLAG"
      },
      "outputs": [],
      "source": [
        "#Defining the number of features that the model can look for as output\n",
        "num_ftrs = model.fc.in_features\n",
        "model.fc = nn.Linear(num_ftrs, len(train_dataset.classes))"
      ]
    },
    {
      "cell_type": "code",
      "execution_count": 9,
      "metadata": {
        "id": "0ItEYPk-DcLe"
      },
      "outputs": [],
      "source": [
        "#Setting up the optimizer Adam and the loss\n",
        "criterion = nn.CrossEntropyLoss()\n",
        "optimizer = optim.Adam(model.parameters(), lr=0.001)"
      ]
    },
    {
      "cell_type": "code",
      "execution_count": 10,
      "metadata": {
        "colab": {
          "base_uri": "https://localhost:8080/"
        },
        "id": "Jz50_X4UDeHH",
        "outputId": "843befe2-8360-4400-fdf1-a11905df914d"
      },
      "outputs": [
        {
          "output_type": "stream",
          "name": "stdout",
          "text": [
            "Epoch 1/10, Loss: 3.0212834676106772\n",
            "Test Accuracy: 14.285714285714286%\n",
            "Epoch 2/10, Loss: 2.1703756716516285\n",
            "Test Accuracy: 27.61904761904762%\n",
            "Epoch 3/10, Loss: 1.733240630891588\n",
            "Test Accuracy: 23.80952380952381%\n",
            "Epoch 4/10, Loss: 1.540731085671319\n",
            "Test Accuracy: 22.857142857142858%\n",
            "Epoch 5/10, Loss: 1.0892149209976196\n",
            "Test Accuracy: 44.76190476190476%\n",
            "Epoch 6/10, Loss: 0.8015559795829985\n",
            "Test Accuracy: 38.095238095238095%\n",
            "Epoch 7/10, Loss: 0.5086444583204057\n",
            "Test Accuracy: 51.42857142857143%\n",
            "Epoch 8/10, Loss: 0.5500633551014794\n",
            "Test Accuracy: 34.285714285714285%\n",
            "Epoch 9/10, Loss: 0.49004090080658597\n",
            "Test Accuracy: 44.76190476190476%\n",
            "Epoch 10/10, Loss: 0.4639886799785826\n",
            "Test Accuracy: 42.857142857142854%\n"
          ]
        }
      ],
      "source": [
        "#Took about 2 hours to train (might need to add cuda), but thankfully the loss value is decaying over each iteration.\n",
        "#The model seems to have hit a wall in terms of training. I may need to tweek the weights and rerun\n",
        "num_epochs = 10\n",
        "\n",
        "for epoch in range(num_epochs):\n",
        "    model.train()\n",
        "    running_loss = 0.0\n",
        "    for inputs, labels in train_loader:\n",
        "        optimizer.zero_grad()\n",
        "        outputs = model(inputs)\n",
        "        loss = criterion(outputs, labels)\n",
        "        loss.backward()\n",
        "        optimizer.step()\n",
        "        running_loss += loss.item()\n",
        "\n",
        "    print(f'Epoch {epoch+1}/{num_epochs}, Loss: {running_loss/len(train_loader)}')\n",
        "\n",
        "    model.eval()\n",
        "    correct = 0\n",
        "    total = 0\n",
        "    with torch.no_grad():\n",
        "        for inputs, labels in test_loader:\n",
        "            outputs = model(inputs)\n",
        "            _, predicted = torch.max(outputs, 1)\n",
        "            total += labels.size(0)\n",
        "            correct += (predicted == labels).sum().item()\n",
        "\n",
        "    print(f'Test Accuracy: {100 * correct / total}%')"
      ]
    },
    {
      "cell_type": "code",
      "source": [],
      "metadata": {
        "id": "UIiQjMYShzJa"
      },
      "execution_count": null,
      "outputs": []
    }
  ],
  "metadata": {
    "colab": {
      "provenance": []
    },
    "kernelspec": {
      "display_name": "Python 3",
      "name": "python3"
    },
    "language_info": {
      "name": "python"
    }
  },
  "nbformat": 4,
  "nbformat_minor": 0
}