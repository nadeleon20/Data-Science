{
 "cells": [
  {
   "cell_type": "code",
   "execution_count": 6,
   "metadata": {},
   "outputs": [
    {
     "name": "stdout",
     "output_type": "stream",
     "text": [
      "          DATE  Effective_Rate\n",
      "0   2014-10-01        0.101304\n",
      "1   2015-01-01        0.112889\n",
      "2   2015-04-01        0.125604\n",
      "3   2015-07-01        0.134783\n",
      "4   2015-10-01        0.161087\n",
      "5   2016-01-01        0.359780\n",
      "6   2016-04-01        0.369341\n",
      "7   2016-07-01        0.394891\n",
      "8   2016-10-01        0.448152\n",
      "9   2017-01-01        0.698889\n",
      "10  2017-04-01        0.947363\n",
      "11  2017-07-01        1.153696\n",
      "12  2017-10-01        1.204674\n",
      "13  2018-01-01        1.447000\n",
      "14  2018-04-01        1.736923\n",
      "15  2018-07-01        1.926196\n",
      "16  2018-10-01        2.220109\n",
      "17  2019-01-01        2.401778\n",
      "18  2019-04-01        2.397363\n",
      "19  2019-07-01        2.192174\n",
      "20  2019-10-01        1.645652\n",
      "21  2020-01-01        1.254945\n",
      "22  2020-04-01        0.058791\n",
      "23  2020-07-01        0.092609\n",
      "24  2020-10-01        0.088804\n",
      "25  2021-01-01        0.076889\n",
      "26  2021-04-01        0.068242\n",
      "27  2021-07-01        0.090000\n",
      "28  2021-10-01        0.079457\n",
      "29  2022-01-01        0.121444\n",
      "30  2022-04-01        0.766813\n",
      "31  2022-07-01        2.182935\n",
      "32  2022-10-01        3.653370\n",
      "33  2023-01-01        4.514556\n",
      "34  2023-04-01        4.988132\n",
      "35  2023-07-01        5.259239\n",
      "36  2023-10-01        5.330000\n",
      "37  2024-01-01        5.330000\n",
      "38  2024-04-01        5.330000\n",
      "39  2024-07-01        5.264783\n",
      "40  2024-10-01             NaN\n"
     ]
    }
   ],
   "source": [
    "# Installing necessary packages\n",
    "import pandas as pd\n",
    "import seaborn as sb\n",
    "import matplotlib.pyplot as plt\n",
    "\n",
    "FRRate = pd.read_csv(\"C:/Users/lilni/OneDrive - Mount St. Mary's University/Desktop/FRED Data Science/Effective_Rate_Q.csv\")\n",
    "FRRate.rename(columns={'DFF':'Effective_Rate'}, inplace = True)\n",
    "FRRate['Effective_Rate'] = pd.to_numeric(FRRate['Effective_Rate'], errors='coerce')\n",
    "print(FRRate)"
   ]
  }
 ],
 "metadata": {
  "kernelspec": {
   "display_name": "Python 3",
   "language": "python",
   "name": "python3"
  },
  "language_info": {
   "codemirror_mode": {
    "name": "ipython",
    "version": 3
   },
   "file_extension": ".py",
   "mimetype": "text/x-python",
   "name": "python",
   "nbconvert_exporter": "python",
   "pygments_lexer": "ipython3",
   "version": "3.11.9"
  }
 },
 "nbformat": 4,
 "nbformat_minor": 2
}
