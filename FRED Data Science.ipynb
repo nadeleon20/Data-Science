# Installing necessary packages
import pandas as pd
import seaborn as sb
import matplotlib.pyplot as plt

#Importing necessary data from csv's
FRRate = pd.read_csv("C:/Users/lilni/OneDrive - Mount St. Mary's University/Desktop/FRED Data Science/Effective_Rate_Q.csv")
PSavings = pd.read_csv("C:/Users/lilni/OneDrive - Mount St. Mary's University/Desktop/FRED Data Science/Savings_Q.csv")
CC_Delinquency = pd.read_csv("C:/Users/lilni/OneDrive - Mount St. Mary's University/Desktop/FRED Data Science/CC_Delinq_Q.csv")
#Renaming necessary columns for better legibility
FRRate.rename(columns={'DFF':'Effective_Rate'}, inplace = True)
PSavings.rename(columns={'PSAVERT':'Personal Savings'}, inplace = True)
CC_Delinquency.rename(columns={'DRCCLACBS':'CC_Delinq'}, inplace = True)
#Changing data type to numeric for the sake of analyses
FRRate['Effective_Rate'] = pd.to_numeric(FRRate['Effective_Rate'], errors = 'coerce')
PSavings['Personal Savings'] = pd.to_numeric(PSavings['Personal Savings'], errors = 'coerce')
CC_Delinquency['CC_Delinq'] = pd.to_numeric(CC_Delinquency['CC_Delinq'], errors = 'coerce')

#Merge the datasets together based on their common column, 'DATE'
Variables = FRRate.merge(PSavings, on = 'DATE', how = 'inner').merge(CC_Delinquency, on = 'DATE', how = 'inner')
#print(Variables01)

