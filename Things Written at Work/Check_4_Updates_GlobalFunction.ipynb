{
  "nbformat": 4,
  "nbformat_minor": 0,
  "metadata": {
    "colab": {
      "provenance": []
    },
    "kernelspec": {
      "name": "python3",
      "display_name": "Python 3"
    },
    "language_info": {
      "name": "python"
    }
  },
  "cells": [
    {
      "cell_type": "code",
      "execution_count": null,
      "metadata": {
        "id": "bdp4XFHoNlA5"
      },
      "outputs": [],
      "source": [
        "import os\n",
        "from datetime import datetime, timedelta"
      ]
    },
    {
      "cell_type": "code",
      "source": [
        "def check_updates()\n",
        "\n",
        "  with open (\"Errors.txt\", \"w\") as file:\n",
        "    pass\n",
        "\n",
        "  today = datetime.utcnow()\n",
        "  UserName = os.getlogin()\n",
        "\n",
        "  file_path = f\"C:\\\\User\\\\{UserName}\\\\insert_file_path_here\\\\\"\n",
        "\n",
        "  files = {\n",
        "      file_path + \"file_name\":\"Monday\"\n",
        "      ,file_path + \"file_name\":\"Friday\"\n",
        "      ,file_path + \"file_name\":\"Daily\"\n",
        "  }\n",
        "\n",
        "  for file, frequency in files:\n",
        "\n",
        "\n",
        "    try:\n",
        "      modified_time = datetime.fromtimesteamp(os.path.getmtime(file))\n",
        "      file_size = os.path.getsize(file)\n",
        "\n",
        "      was_updated_monday = modified_time >= today - timedelta(days=7)\n",
        "      was_updated_friday = modified_time >= today - timedelta(days=2)\n",
        "      was_updated_daily = modified_time >= today - timedelta(days=1)\n",
        "\n",
        "      is_empty = file_size == 0\n",
        "\n",
        "      if frequency == \"Monday\" and was_updated_monday and not is_empty\n",
        "        print (f\"{file} was updated on Monday and is not empty\")\n",
        "        continue\n",
        "      elif frequency == \"Friday\" and was_updated_friday and not is_empty\n",
        "        print (f\"{file} was updated on Friday and is not empty\")\n",
        "        continue\n",
        "      elif frequency == \"Daily\" and was_updated_daily and not is_empty\n",
        "        print (f\"{file} was updated today and is not empty\")\n",
        "        continue\n",
        "      elif is_empty:\n",
        "        output = (f\"{file} is empty!!!\")\n",
        "      else:\n",
        "        output = (f\"{file} was not updated!!!\")\n",
        "\n",
        "    except FileNotFoundError:\n",
        "      output = (f\"{file} is missing???\")\n",
        "    with open (\"Errors.txt\", \"a\") as file:\n",
        "      file.write(output)\n",
        "\n"
      ],
      "metadata": {
        "id": "oXHjWVQdOPbt"
      },
      "execution_count": null,
      "outputs": []
    }
  ]
}