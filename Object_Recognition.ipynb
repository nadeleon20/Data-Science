{
  "nbformat": 4,
  "nbformat_minor": 0,
  "metadata": {
    "colab": {
      "provenance": []
    },
    "kernelspec": {
      "name": "python3",
      "display_name": "Python 3"
    },
    "language_info": {
      "name": "python"
    }
  },
  "cells": [
    {
      "cell_type": "code",
      "execution_count": null,
      "metadata": {
        "collapsed": true,
        "id": "-1rsbT6v1R5s"
      },
      "outputs": [],
      "source": [
        "#For the ease of use, I am creating this model in Google Collab, using COCO datsets to train the model\n",
        "!pip install -U tensorflow==2.* tf_slim\n",
        "!pip install pycocotools"
      ]
    },
    {
      "cell_type": "code",
      "source": [
        "!git clone https://github.com/tensorflow/models.git"
      ],
      "metadata": {
        "collapsed": true,
        "id": "aYytVUiT1d92"
      },
      "execution_count": null,
      "outputs": []
    },
    {
      "cell_type": "code",
      "source": [
        "%cd models/research\n",
        "!protoc object_detection/protos/*.proto --python_out=.\n",
        "!cp object_detection/packages/tf2/setup.py .\n",
        "!python -m pip install ."
      ],
      "metadata": {
        "collapsed": true,
        "id": "a5EFXVPo3Ye6"
      },
      "execution_count": null,
      "outputs": []
    },
    {
      "cell_type": "code",
      "source": [
        "from pycocotools.coco import COCO\n",
        "import numpy as np\n",
        "\n",
        "annotation_file = ''\n",
        "coco = COCO(annotation_file)"
      ],
      "metadata": {
        "id": "aVheetjq7mAE"
      },
      "execution_count": null,
      "outputs": []
    }
  ]
}